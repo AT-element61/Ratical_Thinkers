{
 "cells": [
  {
   "cell_type": "code",
   "execution_count": null,
   "id": "efe88f68",
   "metadata": {},
   "outputs": [],
   "source": [
    "import pandas as pd \n",
    "from dataclasses import dataclass\n",
    "from typing import List\n",
    "from datetime import datetime"
   ]
  },
  {
   "cell_type": "code",
   "execution_count": null,
   "id": "c09dc93b",
   "metadata": {},
   "outputs": [],
   "source": [
    "df_nov=pd.read_excel(r\"..\\Data\\LineC_SessionData-individual rats_SampleData.xlsx\")\n",
    "df_march=pd.read_excel(r\"..\\Data\\Snifftime data_March15.2019_example_withIndividualSniffs.xlsx\")\n",
    "df_sept=pd.read_excel(r\"\")"
   ]
  },
  {
   "cell_type": "code",
   "execution_count": null,
   "id": "858e7a6a",
   "metadata": {},
   "outputs": [
    {
     "data": {
      "text/plain": [
       "Index(['SESSION_DATE', 'ID_EVALUATION_SESSION', 'ID_RAT', 'Name', 'Birthdate',\n",
       "       'Gender', 'WEIGHT', 'TEMPERATURE', 'ID_SAMPLE', 'ID_BL_DOTS',\n",
       "       'ID_BL_APOPO', 'STATUS_KNOWNPOS', 'STATUS_BLINDPOS', 'REWARD', 'HIT',\n",
       "       'SniffTime', 'SniffThreshold'],\n",
       "      dtype='object')"
      ]
     },
     "execution_count": 15,
     "metadata": {},
     "output_type": "execute_result"
    }
   ],
   "source": [
    "df_nov."
   ]
  },
  {
   "cell_type": "code",
   "execution_count": 16,
   "id": "997a7d08",
   "metadata": {},
   "outputs": [
    {
     "data": {
      "text/plain": [
       "Index(['SESSION_DATE', 'ID_EVALUATION_SESSION', 'RAT_NAME', 'RUN', 'HOLE',\n",
       "       'LEVEL_NAME', 'SniffTime', 'tblEVALUATION.SniffThreshold',\n",
       "       'tblRAT_SESSION.SniffThreshold', 'HIT', 'STATUS_BLINDPOS',\n",
       "       'STATUS_KNOWNPOS', 'REWARD', 'ID_SAMPLE', 'ID_GXP_DOTS', 'ID_BL_DOTS',\n",
       "       'ID_BL_APOPO', 'ID_BL_FM', 'ID_GXP_APOPO', 'START_TIME', 'END_TIME',\n",
       "       'Duration(M)', 'Duration(S)', 'TEMPERATURE', 'BIRTH_DATE', 'age',\n",
       "       'Sniff 1', 'Sniff 2', 'Sniff 3', 'Sniff 4', 'Sniff 5', 'Sniff 6',\n",
       "       'Sniff 7', 'Sniff 8', 'Cumulative Sniff Time', 'Match?'],\n",
       "      dtype='object')"
      ]
     },
     "execution_count": 16,
     "metadata": {},
     "output_type": "execute_result"
    }
   ],
   "source": [
    "df_march.columns"
   ]
  },
  {
   "cell_type": "code",
   "execution_count": null,
   "id": "c8782a2a",
   "metadata": {},
   "outputs": [],
   "source": [
    "@dataclass\n",
    "class Rat(): \n",
    "    id:int\n",
    "    Name:str\n",
    "    birth_date:datetime \n",
    "    age:float\n",
    "    threshold:int\n",
    "    hole_dist:List[dict]\n",
    "    accuracy:float "
   ]
  },
  {
   "cell_type": "code",
   "execution_count": 38,
   "id": "703fda27",
   "metadata": {},
   "outputs": [
    {
     "data": {
      "text/html": [
       "<div>\n",
       "<style scoped>\n",
       "    .dataframe tbody tr th:only-of-type {\n",
       "        vertical-align: middle;\n",
       "    }\n",
       "\n",
       "    .dataframe tbody tr th {\n",
       "        vertical-align: top;\n",
       "    }\n",
       "\n",
       "    .dataframe thead th {\n",
       "        text-align: right;\n",
       "    }\n",
       "</style>\n",
       "<table border=\"1\" class=\"dataframe\">\n",
       "  <thead>\n",
       "    <tr style=\"text-align: right;\">\n",
       "      <th></th>\n",
       "      <th>BIRTH_DATE</th>\n",
       "      <th>age</th>\n",
       "      <th>HOLE</th>\n",
       "      <th>Match?</th>\n",
       "    </tr>\n",
       "    <tr>\n",
       "      <th>RAT_NAME</th>\n",
       "      <th></th>\n",
       "      <th></th>\n",
       "      <th></th>\n",
       "      <th></th>\n",
       "    </tr>\n",
       "  </thead>\n",
       "  <tbody>\n",
       "    <tr>\n",
       "      <th>Daudi</th>\n",
       "      <td>[2016-10-28 00:00:00, 2016-10-28 00:00:00, 201...</td>\n",
       "      <td>[2.38, 2.38, 2.38, 2.38, 2.38, 2.38, 2.38, 2.3...</td>\n",
       "      <td>[1, 2, 3, 4, 5, 6, 7, 8, 9, 10, 1, 2, 3, 4, 5,...</td>\n",
       "      <td>[True, True, True, True, True, True, True, Tru...</td>\n",
       "    </tr>\n",
       "    <tr>\n",
       "      <th>Doreen</th>\n",
       "      <td>[2016-10-31 00:00:00, 2016-10-31 00:00:00, 201...</td>\n",
       "      <td>[2.37, 2.37, 2.37, 2.37, 2.37, 2.37, 2.37, 2.3...</td>\n",
       "      <td>[1, 2, 3, 4, 5, 6, 7, 8, 9, 10, 1, 2, 3, 4, 5,...</td>\n",
       "      <td>[False, False, True, True, True, True, True, T...</td>\n",
       "    </tr>\n",
       "    <tr>\n",
       "      <th>Kahu</th>\n",
       "      <td>[2016-10-28 00:00:00, 2016-10-28 00:00:00, 201...</td>\n",
       "      <td>[2.38, 2.38, 2.38, 2.38, 2.38, 2.38, 2.38, 2.3...</td>\n",
       "      <td>[1, 2, 3, 4, 5, 6, 7, 8, 9, 10, 1, 2, 3, 4, 5,...</td>\n",
       "      <td>[True, True, True, True, True, True, True, Tru...</td>\n",
       "    </tr>\n",
       "    <tr>\n",
       "      <th>Maui</th>\n",
       "      <td>[2016-11-05 00:00:00, 2016-11-05 00:00:00, 201...</td>\n",
       "      <td>[2.36, 2.36, 2.36, 2.36, 2.36, 2.36, 2.36, 2.3...</td>\n",
       "      <td>[1, 2, 3, 4, 5, 6, 7, 8, 9, 10, 1, 2, 3, 4, 5,...</td>\n",
       "      <td>[True, True, True, True, True, True, True, Tru...</td>\n",
       "    </tr>\n",
       "    <tr>\n",
       "      <th>Moana</th>\n",
       "      <td>[2016-10-31 00:00:00, 2016-10-31 00:00:00, 201...</td>\n",
       "      <td>[2.37, 2.37, 2.37, 2.37, 2.37, 2.37, 2.37, 2.3...</td>\n",
       "      <td>[1, 2, 3, 4, 5, 6, 7, 8, 9, 10, 1, 2, 3, 4, 5,...</td>\n",
       "      <td>[True, True, True, True, True, True, True, Tru...</td>\n",
       "    </tr>\n",
       "    <tr>\n",
       "      <th>Moureen</th>\n",
       "      <td>[2016-10-28 00:00:00, 2016-10-28 00:00:00, 201...</td>\n",
       "      <td>[2.38, 2.38, 2.38, 2.38, 2.38, 2.38, 2.38, 2.3...</td>\n",
       "      <td>[1, 2, 3, 4, 5, 6, 7, 8, 9, 10, 1, 2, 3, 4, 5,...</td>\n",
       "      <td>[True, True, True, True, True, True, True, Tru...</td>\n",
       "    </tr>\n",
       "    <tr>\n",
       "      <th>Ngaio</th>\n",
       "      <td>[2016-10-31 00:00:00, 2016-10-31 00:00:00, 201...</td>\n",
       "      <td>[2.37, 2.37, 2.37, 2.37, 2.37, 2.37, 2.37, 2.3...</td>\n",
       "      <td>[1, 2, 3, 4, 5, 6, 7, 8, 9, 10, 1, 2, 3, 4, 5,...</td>\n",
       "      <td>[True, True, True, True, True, True, True, Tru...</td>\n",
       "    </tr>\n",
       "    <tr>\n",
       "      <th>Rui</th>\n",
       "      <td>[2016-10-28 00:00:00, 2016-10-28 00:00:00, 201...</td>\n",
       "      <td>[2.38, 2.38, 2.38, 2.38, 2.38, 2.38, 2.38, 2.3...</td>\n",
       "      <td>[1, 2, 3, 4, 5, 6, 7, 8, 9, 10, 1, 2, 3, 4, 5,...</td>\n",
       "      <td>[True, True, True, True, True, True, True, Tru...</td>\n",
       "    </tr>\n",
       "    <tr>\n",
       "      <th>Samiry</th>\n",
       "      <td>[2016-11-05 00:00:00, 2016-11-05 00:00:00, 201...</td>\n",
       "      <td>[2.36, 2.36, 2.36, 2.36, 2.36, 2.36, 2.36, 2.3...</td>\n",
       "      <td>[1, 2, 3, 4, 5, 6, 7, 8, 9, 10, 1, 2, 3, 4, 5,...</td>\n",
       "      <td>[True, True, True, True, True, True, True, Tru...</td>\n",
       "    </tr>\n",
       "  </tbody>\n",
       "</table>\n",
       "</div>"
      ],
      "text/plain": [
       "                                                 BIRTH_DATE  \\\n",
       "RAT_NAME                                                      \n",
       "Daudi     [2016-10-28 00:00:00, 2016-10-28 00:00:00, 201...   \n",
       "Doreen    [2016-10-31 00:00:00, 2016-10-31 00:00:00, 201...   \n",
       "Kahu      [2016-10-28 00:00:00, 2016-10-28 00:00:00, 201...   \n",
       "Maui      [2016-11-05 00:00:00, 2016-11-05 00:00:00, 201...   \n",
       "Moana     [2016-10-31 00:00:00, 2016-10-31 00:00:00, 201...   \n",
       "Moureen   [2016-10-28 00:00:00, 2016-10-28 00:00:00, 201...   \n",
       "Ngaio     [2016-10-31 00:00:00, 2016-10-31 00:00:00, 201...   \n",
       "Rui       [2016-10-28 00:00:00, 2016-10-28 00:00:00, 201...   \n",
       "Samiry    [2016-11-05 00:00:00, 2016-11-05 00:00:00, 201...   \n",
       "\n",
       "                                                        age  \\\n",
       "RAT_NAME                                                      \n",
       "Daudi     [2.38, 2.38, 2.38, 2.38, 2.38, 2.38, 2.38, 2.3...   \n",
       "Doreen    [2.37, 2.37, 2.37, 2.37, 2.37, 2.37, 2.37, 2.3...   \n",
       "Kahu      [2.38, 2.38, 2.38, 2.38, 2.38, 2.38, 2.38, 2.3...   \n",
       "Maui      [2.36, 2.36, 2.36, 2.36, 2.36, 2.36, 2.36, 2.3...   \n",
       "Moana     [2.37, 2.37, 2.37, 2.37, 2.37, 2.37, 2.37, 2.3...   \n",
       "Moureen   [2.38, 2.38, 2.38, 2.38, 2.38, 2.38, 2.38, 2.3...   \n",
       "Ngaio     [2.37, 2.37, 2.37, 2.37, 2.37, 2.37, 2.37, 2.3...   \n",
       "Rui       [2.38, 2.38, 2.38, 2.38, 2.38, 2.38, 2.38, 2.3...   \n",
       "Samiry    [2.36, 2.36, 2.36, 2.36, 2.36, 2.36, 2.36, 2.3...   \n",
       "\n",
       "                                                       HOLE  \\\n",
       "RAT_NAME                                                      \n",
       "Daudi     [1, 2, 3, 4, 5, 6, 7, 8, 9, 10, 1, 2, 3, 4, 5,...   \n",
       "Doreen    [1, 2, 3, 4, 5, 6, 7, 8, 9, 10, 1, 2, 3, 4, 5,...   \n",
       "Kahu      [1, 2, 3, 4, 5, 6, 7, 8, 9, 10, 1, 2, 3, 4, 5,...   \n",
       "Maui      [1, 2, 3, 4, 5, 6, 7, 8, 9, 10, 1, 2, 3, 4, 5,...   \n",
       "Moana     [1, 2, 3, 4, 5, 6, 7, 8, 9, 10, 1, 2, 3, 4, 5,...   \n",
       "Moureen   [1, 2, 3, 4, 5, 6, 7, 8, 9, 10, 1, 2, 3, 4, 5,...   \n",
       "Ngaio     [1, 2, 3, 4, 5, 6, 7, 8, 9, 10, 1, 2, 3, 4, 5,...   \n",
       "Rui       [1, 2, 3, 4, 5, 6, 7, 8, 9, 10, 1, 2, 3, 4, 5,...   \n",
       "Samiry    [1, 2, 3, 4, 5, 6, 7, 8, 9, 10, 1, 2, 3, 4, 5,...   \n",
       "\n",
       "                                                     Match?  \n",
       "RAT_NAME                                                     \n",
       "Daudi     [True, True, True, True, True, True, True, Tru...  \n",
       "Doreen    [False, False, True, True, True, True, True, T...  \n",
       "Kahu      [True, True, True, True, True, True, True, Tru...  \n",
       "Maui      [True, True, True, True, True, True, True, Tru...  \n",
       "Moana     [True, True, True, True, True, True, True, Tru...  \n",
       "Moureen   [True, True, True, True, True, True, True, Tru...  \n",
       "Ngaio     [True, True, True, True, True, True, True, Tru...  \n",
       "Rui       [True, True, True, True, True, True, True, Tru...  \n",
       "Samiry    [True, True, True, True, True, True, True, Tru...  "
      ]
     },
     "execution_count": 38,
     "metadata": {},
     "output_type": "execute_result"
    }
   ],
   "source": [
    "rat_profiling"
   ]
  },
  {
   "cell_type": "code",
   "execution_count": null,
   "id": "7a577349",
   "metadata": {},
   "outputs": [],
   "source": []
  },
  {
   "cell_type": "code",
   "execution_count": null,
   "id": "903022e4",
   "metadata": {},
   "outputs": [],
   "source": [
    "def rat_profiling(row): \n",
    "    birth_date=row['BIRTHDATE'].date()\n",
    "    age=row['age'][0]\n",
    "    accuracy = sum(row['Match?'])/len(row['Match?'])\n",
    "    \n",
    "    "
   ]
  },
  {
   "cell_type": "code",
   "execution_count": 51,
   "id": "d49e077b",
   "metadata": {},
   "outputs": [],
   "source": [
    "rat_profiling=df_march.groupby('RAT_NAME')[['BIRTH_DATE','age','Match?']].agg(list)"
   ]
  },
  {
   "cell_type": "code",
   "execution_count": 53,
   "id": "95a0f69f",
   "metadata": {},
   "outputs": [],
   "source": [
    "test=rat_profiling['Match?'].iloc[0]"
   ]
  },
  {
   "cell_type": "code",
   "execution_count": 54,
   "id": "a4ae8a71",
   "metadata": {},
   "outputs": [
    {
     "data": {
      "text/plain": [
       "0.9857142857142858"
      ]
     },
     "execution_count": 54,
     "metadata": {},
     "output_type": "execute_result"
    }
   ],
   "source": [
    "sum(test)/len(test)"
   ]
  },
  {
   "cell_type": "code",
   "execution_count": 50,
   "id": "2b064cab",
   "metadata": {},
   "outputs": [
    {
     "name": "stdout",
     "output_type": "stream",
     "text": [
      "{1: 7, 2: 7, 3: 7, 4: 7, 5: 7, 6: 7, 7: 7, 8: 7, 9: 7, 10: 7}\n"
     ]
    }
   ],
   "source": [
    "hole_dist={}\n",
    "for i in test: \n",
    " \n",
    "    if i in hole_dist.keys(): \n",
    "        hole_dist[i]+=1\n",
    "    else : \n",
    "        hole_dist[i]=1\n",
    "\n",
    "print(hole_dist)\n",
    "\n"
   ]
  },
  {
   "cell_type": "code",
   "execution_count": 18,
   "id": "6500dd79",
   "metadata": {},
   "outputs": [
    {
     "data": {
      "text/plain": [
       "array(['Daudi', 'Doreen', 'Kahu', 'Maui', 'Moana', 'Moureen', 'Ngaio',\n",
       "       'Rui', 'Samiry'], dtype=object)"
      ]
     },
     "execution_count": 18,
     "metadata": {},
     "output_type": "execute_result"
    }
   ],
   "source": [
    "df_march.RAT_NAME.unique()"
   ]
  }
 ],
 "metadata": {
  "kernelspec": {
   "display_name": ".venv",
   "language": "python",
   "name": "python3"
  },
  "language_info": {
   "codemirror_mode": {
    "name": "ipython",
    "version": 3
   },
   "file_extension": ".py",
   "mimetype": "text/x-python",
   "name": "python",
   "nbconvert_exporter": "python",
   "pygments_lexer": "ipython3",
   "version": "3.12.10"
  }
 },
 "nbformat": 4,
 "nbformat_minor": 5
}
