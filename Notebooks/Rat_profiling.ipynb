{
 "cells": [
  {
   "cell_type": "code",
   "execution_count": 11,
   "id": "efe88f68",
   "metadata": {},
   "outputs": [],
   "source": [
    "import pandas as pd \n",
    "from dataclasses import dataclass\n",
    "from typing import List\n",
    "from datetime import datetime"
   ]
  },
  {
   "cell_type": "code",
   "execution_count": 12,
   "id": "c09dc93b",
   "metadata": {},
   "outputs": [],
   "source": [
    "combined_df= pd.read_excel(r\"..\\Data\\Report_data_final.xlsx\",index_col=None)\n",
    "combined_df = combined_df.rename(columns={'Unnamed: 0': 'Session_Run_ID'})"
   ]
  },
  {
   "cell_type": "code",
   "execution_count": 13,
   "id": "c8782a2a",
   "metadata": {},
   "outputs": [],
   "source": [
    "@dataclass\n",
    "class Rat(): \n",
    "    id:int\n",
    "    Name:str\n",
    "    birth_date:datetime \n",
    "    age:float\n",
    "    threshold:int\n",
    "    hole_dist:List[dict]\n",
    "    # accuracy:float "
   ]
  },
  {
   "cell_type": "code",
   "execution_count": 14,
   "id": "903022e4",
   "metadata": {},
   "outputs": [],
   "source": [
    "def rat_profiling(row): \n",
    " \n",
    "    age=list(set(row['Age']))\n",
    "    gender= list(set(row['Gender']))\n",
    "\n",
    "    row['Age'] = age\n",
    "    row['Gender']= gender\n",
    "    \n",
    "    "
   ]
  },
  {
   "cell_type": "code",
   "execution_count": 34,
   "id": "d49e077b",
   "metadata": {},
   "outputs": [],
   "source": [
    "\n",
    "\n",
    "\n",
    "\n",
    "def get_values(lst):\n",
    "    # Ensure it's a list\n",
    "    if isinstance(lst, list):\n",
    "        # Check if all elements are NaN-like\n",
    "        if all(pd.isna(x) for x in lst):\n",
    "            return ['Unknown']\n",
    "    return list(set(lst))\n",
    "\n",
    "\n",
    "def _rate(lst): \n",
    "    return sum(lst)/len(lst)\n",
    "\n",
    "def _get_median(lst):\n",
    "    n= len(lst)\n",
    "    lst.sort()\n",
    "    if n % 2 == 0:\n",
    "        res = (lst[n//2 - 1] + lst[n//2]) / 2\n",
    "    else:\n",
    "        res = lst[n//2]\n",
    "\n",
    "    return res\n",
    "\n",
    "\n",
    "def rat_profiling(row): \n",
    " \n",
    "    age=get_values(row['Age'])[-1]\n",
    "    gender= get_values(row['Gender'])[0]\n",
    "    weight= get_values(row['Weight'])[0]\n",
    "    Threshold_Time = _get_median(row['Threshold_Time'])\n",
    "    sniff_time= _rate(row['Sniff_Time'])\n",
    "\n",
    "\n",
    "    TP = _rate(row['TP'])\n",
    "    FP = _rate(row['FP'])\n",
    "    TN = _rate(row['TN'])\n",
    "    FN = _rate(row['FN'])\n",
    "\n",
    "\n",
    "    Accuracy = (sum(row['TP']) + sum(row['TN']))/(sum(row['TP']) + sum(row['TN']) + sum(row['FP']) + sum(row['FN']))\n",
    "    Recall = (sum(row['TP'])/((sum(row['TP']))+ sum(row['FN'])))\n",
    "\n",
    "\n",
    "\n",
    "    row['Age'] = age\n",
    "    row['Gender']= gender\n",
    "    row['Weight'] = weight\n",
    "    row['Threshold_Time']= Threshold_Time\n",
    "    row['Sniff_Time'] = sniff_time\n",
    "    row['TP'] = TP\n",
    "    row['FP'] = FP\n",
    "    row['TN'] = TN\n",
    "    row['FN']= FN\n",
    "    row['Accuracy'] = Accuracy\n",
    "    row['Recall'] = Recall\n",
    "\n",
    "    \n",
    "\n",
    "    return row\n",
    "    \n",
    "    \n",
    "by_rat=combined_df.groupby('Rat_Name')[['Gender','Age','Weight','Sniff_Time','TP','FP','TN','FN','Threshold_Time']].agg(list)\n",
    "by_rat = by_rat.reset_index()\n",
    "rat_profiled= by_rat.apply(lambda x: rat_profiling(x),axis=1)"
   ]
  },
  {
   "cell_type": "code",
   "execution_count": 35,
   "id": "34fcd1d9",
   "metadata": {},
   "outputs": [],
   "source": [
    "rat_profiled.to_excel(r\"..\\Data\\Rat_profiles.xlsx\")"
   ]
  }
 ],
 "metadata": {
  "kernelspec": {
   "display_name": ".venv",
   "language": "python",
   "name": "python3"
  },
  "language_info": {
   "codemirror_mode": {
    "name": "ipython",
    "version": 3
   },
   "file_extension": ".py",
   "mimetype": "text/x-python",
   "name": "python",
   "nbconvert_exporter": "python",
   "pygments_lexer": "ipython3",
   "version": "3.12.10"
  }
 },
 "nbformat": 4,
 "nbformat_minor": 5
}
