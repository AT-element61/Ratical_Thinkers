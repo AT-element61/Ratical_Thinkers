{
 "cells": [
  {
   "cell_type": "code",
   "execution_count": null,
   "id": "3b8fe958",
   "metadata": {},
   "outputs": [],
   "source": [
    "import pandas as pd \n",
    "from dataclasses import dataclass\n",
    "from typing import List\n",
    "from datetime import datetime"
   ]
  },
  {
   "cell_type": "code",
   "execution_count": null,
   "id": "269e9dcb",
   "metadata": {},
   "outputs": [],
   "source": [
    "df_nov=pd.read_excel(r\"..\\Data\\LineC_SessionData-individual rats_SampleData.xlsx\")\n",
    "df_march=pd.read_excel(r\"..\\Data\\Snifftime data_March15.2019_example_withIndividualSniffs.xlsx\")\n",
    "df_sept=pd.read_excel(r\"..\\Data\\AutomatedCage_Sept2023-24_raw data.xlsx\")"
   ]
  }
 ],
 "metadata": {
  "kernelspec": {
   "display_name": ".venv",
   "language": "python",
   "name": "python3"
  },
  "language_info": {
   "codemirror_mode": {
    "name": "ipython",
    "version": 3
   },
   "file_extension": ".py",
   "mimetype": "text/x-python",
   "name": "python",
   "nbconvert_exporter": "python",
   "pygments_lexer": "ipython3",
   "version": "3.12.10"
  }
 },
 "nbformat": 4,
 "nbformat_minor": 5
}
