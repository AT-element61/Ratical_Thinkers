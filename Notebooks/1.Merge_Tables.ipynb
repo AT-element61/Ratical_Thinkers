{
 "cells": [
  {
   "cell_type": "code",
   "execution_count": 4,
   "id": "3b8fe958",
   "metadata": {},
   "outputs": [],
   "source": [
    "import pandas as pd \n",
    "from dataclasses import dataclass\n",
    "from typing import List\n",
    "from datetime import datetime"
   ]
  },
  {
   "cell_type": "code",
   "execution_count": 5,
   "id": "269e9dcb",
   "metadata": {},
   "outputs": [],
   "source": [
    "df_nov=pd.read_excel(r\"..\\Data\\LineC_SessionData-individual rats_SampleData.xlsx\")\n",
    "df_march=pd.read_excel(r\"..\\Data\\Snifftime data_March15.2019_example_withIndividualSniffs.xlsx\")\n",
    "df_sept=pd.read_excel(r\"..\\Data\\AutomatedCage_Sept2023-24_raw data.xlsx\")"
   ]
  },
  {
   "cell_type": "code",
   "execution_count": 13,
   "id": "78d8f7b6",
   "metadata": {},
   "outputs": [],
   "source": [
    "rename_dict = {\n",
    "    \"RAT_NAME\": \"Rat_Name\",\n",
    "    \"ID_EVALUATION_SESSION\": \"Evaluation_Session_ID\",\n",
    "    \"RUN\": \"Run\",\n",
    "    \"HOLE\": \"Hole\",\n",
    "    \"SniffTime\": \"Sniff_Time\",\n",
    "    \"tblEVALUATION_SniffThreshold\": \"Threshold_Time\",\n",
    "    \"ID_BL_DOTS\": \"Lab_Test\"\n",
    "}"
   ]
  },
  {
   "cell_type": "code",
   "execution_count": 12,
   "id": "e761862b",
   "metadata": {},
   "outputs": [
    {
     "ename": "NameError",
     "evalue": "name 'rename_dict' is not defined",
     "output_type": "error",
     "traceback": [
      "\u001b[31m---------------------------------------------------------------------------\u001b[39m",
      "\u001b[31mNameError\u001b[39m                                 Traceback (most recent call last)",
      "\u001b[36mCell\u001b[39m\u001b[36m \u001b[39m\u001b[32mIn[12]\u001b[39m\u001b[32m, line 1\u001b[39m\n\u001b[32m----> \u001b[39m\u001b[32m1\u001b[39m df_sept=df = df_sept.rename(columns=\u001b[43mrename_dict\u001b[49m)\n",
      "\u001b[31mNameError\u001b[39m: name 'rename_dict' is not defined"
     ]
    }
   ],
   "source": [
    "df_sept=df = df_sept.rename(columns=rename_dict)"
   ]
  },
  {
   "cell_type": "code",
   "execution_count": null,
   "id": "d092cab0",
   "metadata": {},
   "outputs": [],
   "source": [
    "def _positive_sample_rat(row): \n",
    "    if row['Sniff_Time']>=row['Threshold_Time']: \n",
    "        return 1 \n",
    "    else: \n",
    "        return 0\n",
    "\n",
    "def _positive_sample_lab(row): \n",
    "    if row['Lab_Test']==0:\n",
    "        return pd.NA\n",
    "    elif row['Lab_Test']>1: \n",
    "        return 1\n",
    "    else: \n",
    "        return 0\n",
    "\n",
    "\n",
    "def false_positive(rat, lab):\n",
    "    \"\"\"Return 1 if rat says positive but lab test is negative, else 0\"\"\"\n",
    "    return 1 if rat == 1 and lab == 0 else 0\n",
    "\n",
    "def false_negative(rat, lab):\n",
    "    \"\"\"Return 1 if rat says negative but lab test is positive, else 0\"\"\"\n",
    "    return 1 if rat == 0 and lab == 1 else 0\n",
    "\n",
    "def true_positive(rat, lab):\n",
    "    \"\"\"Return 1 if rat says positive and lab test is positive, else 0\"\"\"\n",
    "    return 1 if rat == 1 and lab == 1 else 0\n",
    "\n",
    "def true_negative(rat, lab):\n",
    "    \"\"\"Return 1 if rat says negative and lab test is negative, else 0\"\"\"\n",
    "    return 1 if rat == 0 and lab == 0 else 0\n"
   ]
  },
  {
   "cell_type": "code",
   "execution_count": null,
   "id": "649ad689",
   "metadata": {},
   "outputs": [],
   "source": [
    "df_sept['Rat_Positive_Sample']=df_sept.apply(lambda x: _positive_sample_rat(x),axis=1)\n",
    "df_sept['Lab_Test']=df_sept.apply(lambda x: _positive_sample_lab(x),axis=1)\n",
    "df[\"False_Positive\"] = df.apply(lambda row: false_positive(row[\"Rat_Positive_Sample\"], row[\"Lab_Test\"]), axis=1)\n",
    "df[\"False_Negative\"] = df.apply(lambda row: false_negative(row[\"Rat_Positive_Sample\"], row[\"Lab_Test\"]), axis=1)\n",
    "df[\"True_Positive\"]  = df.apply(lambda row: true_positive(row[\"Rat_Positive_Sample\"], row[\"Lab_Test\"]), axis=1)\n",
    "df[\"True_Negative\"]  = df.apply(lambda row: true_negative(row[\"Rat_Positive_Sample\"], row[\"Lab_Test\"]), axis=1)\n"
   ]
  },
  {
   "cell_type": "code",
   "execution_count": 14,
   "id": "40191b9a",
   "metadata": {},
   "outputs": [
    {
     "data": {
      "text/plain": [
       "Index(['Rat_Name', 'ID_SAMPLE', 'LEVEL_NAME', 'Run', 'Hole', 'Lab_Test',\n",
       "       'ID_GXP_DOTS', 'ID_BL_APOPO', 'EXECUTED', 'HIT', 'REWARD', 'Sniff_Time',\n",
       "       'ReadTotalSnifftime', 'SESSION_DATE', 'Evaluation_Session_ID',\n",
       "       'STATUS_BLINDPOS', 'SAMPLE_TYPE', 'tblRAT_SESSION_REMARKS', 'REUSED',\n",
       "       'Threshold_Time', 'tblRAT_SESSION_SniffThreshold', 'CONFIGURATION_NAME',\n",
       "       'TEMPERATURE', 'STATUS_KNOWNPOS', 'START_TIME', 'END_TIME',\n",
       "       'DATE_INCOMING', 'tblEVALUATION_SESSION_REMARKS', 'Trainer',\n",
       "       'Documenter', 'Handler', 'DOTS_NAME', 'ID_CONFIGURATION'],\n",
       "      dtype='object')"
      ]
     },
     "execution_count": 14,
     "metadata": {},
     "output_type": "execute_result"
    }
   ],
   "source": [
    "df_sept.columns"
   ]
  }
 ],
 "metadata": {
  "kernelspec": {
   "display_name": ".venv",
   "language": "python",
   "name": "python3"
  },
  "language_info": {
   "codemirror_mode": {
    "name": "ipython",
    "version": 3
   },
   "file_extension": ".py",
   "mimetype": "text/x-python",
   "name": "python",
   "nbconvert_exporter": "python",
   "pygments_lexer": "ipython3",
   "version": "3.12.10"
  }
 },
 "nbformat": 4,
 "nbformat_minor": 5
}
